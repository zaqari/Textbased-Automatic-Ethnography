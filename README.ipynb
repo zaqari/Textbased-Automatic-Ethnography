{
 "cells": [
  {
   "cell_type": "markdown",
   "id": "polyphonic-calgary",
   "metadata": {},
   "source": [
    "# Automatic Generation of Ethnographic Clusters Using Text-Based Data\n",
    "\n",
    "\n",
    "### Importing relevant packages and pre-processed data\n",
    "\n",
    "The following sets up the requisite data to run any questions you'd want to run using the data described here at \n",
    "\n",
    "https://cogitmethis.wordpress.com/2021/04/27/an-ethnographic-analysis-of-womens-rights-in-the-workforce-using-machine-learning/\n",
    "\n",
    "If you're interested in collaborating on a different variable set, please reach out to me at zaq.p.rosen [at] gmail .\n"
   ]
  },
  {
   "cell_type": "code",
   "execution_count": null,
   "id": "negative-provider",
   "metadata": {},
   "outputs": [],
   "source": [
    "from mod.dataplot import *\n",
    "import torch\n",
    "import torch.nn as nn\n",
    "import numpy as np\n",
    "import pandas as pd\n",
    "\n",
    "df = pd.read_csv('data/corpora/preprocessed/cosine-matrix.csv')\n",
    "\n",
    "M = torch.FloatTensor(df[list(df)[:-1]].values)"
   ]
  },
  {
   "cell_type": "markdown",
   "id": "regulation-beverage",
   "metadata": {},
   "source": [
    "### Selecting relevant countries and plotting the data\n",
    "\n",
    "Depending on the constraints of your project, you may want to limit the graphical output to only a select few countries. The following example code accomplishes that for you.\n"
   ]
  },
  {
   "cell_type": "code",
   "execution_count": null,
   "id": "american-listing",
   "metadata": {},
   "outputs": [],
   "source": [
    "import seaborn as sns\n",
    "import matplotlib.pyplot as plt\n",
    "\n",
    "COUNTRIES_YOU_WANT_TO_ANALYZE = ['United States', \n",
    "                                 'United Kingdom', \n",
    "                                 'China', \n",
    "                                 'India', \n",
    "                                 'Japan', \n",
    "                                 'South Korea'\n",
    "                                ]\n",
    "\n",
    "\n",
    "c = sel(COUNTRIES_YOU_WANT_TO_ANALYZE, df['Country'].values)\n",
    "print(sel.shape)\n",
    "d, l = M[c],df['Country'].values[c]\n",
    "d = d[:,sel]\n",
    "Dnom = (d*torch.eye(len(d))).sum(dim=-1)\n",
    "\n",
    "plot_data((d/Dnom).nan_to_num().T.numpy(), l)"
   ]
  },
  {
   "cell_type": "markdown",
   "id": "educational-beatles",
   "metadata": {},
   "source": []
  }
 ],
 "metadata": {
  "kernelspec": {
   "display_name": "Python 3",
   "language": "python",
   "name": "python3"
  },
  "language_info": {
   "codemirror_mode": {
    "name": "ipython",
    "version": 3
   },
   "file_extension": ".py",
   "mimetype": "text/x-python",
   "name": "python",
   "nbconvert_exporter": "python",
   "pygments_lexer": "ipython3",
   "version": "3.6.8"
  }
 },
 "nbformat": 4,
 "nbformat_minor": 5
}
